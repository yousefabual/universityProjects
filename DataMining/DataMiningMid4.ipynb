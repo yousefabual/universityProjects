{
 "cells": [
  {
   "cell_type": "markdown",
   "metadata": {
    "id": "2WRTnIKsvyr0"
   },
   "source": [
    "### **Libraries**"
   ]
  },
  {
   "cell_type": "code",
   "execution_count": 2,
   "metadata": {
    "colab": {
     "base_uri": "https://localhost:8080/"
    },
    "id": "dEyacxSJjPYh",
    "outputId": "fa74e80f-d106-4e5a-f7cf-e4488e9dc1ae"
   },
   "outputs": [
    {
     "name": "stderr",
     "output_type": "stream",
     "text": [
      "[nltk_data] Downloading package punkt to\n",
      "[nltk_data]     C:\\Users\\Yousef\\AppData\\Roaming\\nltk_data...\n",
      "[nltk_data]   Package punkt is already up-to-date!\n",
      "[nltk_data] Downloading package stopwords to\n",
      "[nltk_data]     C:\\Users\\Yousef\\AppData\\Roaming\\nltk_data...\n",
      "[nltk_data]   Package stopwords is already up-to-date!\n"
     ]
    },
    {
     "data": {
      "text/plain": [
       "True"
      ]
     },
     "execution_count": 2,
     "metadata": {},
     "output_type": "execute_result"
    }
   ],
   "source": [
    "import pandas as pd\n",
    "import numpy as np\n",
    "import nltk\n",
    "from nltk.corpus import stopwords\n",
    "from nltk.tokenize import word_tokenize\n",
    "from nltk.stem import PorterStemmer\n",
    "import string\n",
    "nltk.download('punkt')\n",
    "nltk.download('stopwords')"
   ]
  },
  {
   "cell_type": "code",
   "execution_count": 3,
   "metadata": {
    "colab": {
     "base_uri": "https://localhost:8080/"
    },
    "id": "i0Rutdm9wWoa",
    "outputId": "dd91c9cc-a38e-46c7-bc9a-25ffb0f24e94"
   },
   "outputs": [
    {
     "name": "stdout",
     "output_type": "stream",
     "text": [
      "Requirement already satisfied: farasa in c:\\users\\yousef\\appdata\\local\\programs\\python\\python312\\lib\\site-packages (0.0.1)"
     ]
    },
    {
     "name": "stderr",
     "output_type": "stream",
     "text": [
      "\n",
      "[notice] A new release of pip is available: 23.2.1 -> 23.3.2\n",
      "[notice] To update, run: python.exe -m pip install --upgrade pip\n"
     ]
    },
    {
     "name": "stdout",
     "output_type": "stream",
     "text": [
      "\n"
     ]
    }
   ],
   "source": [
    "!pip install farasa"
   ]
  },
  {
   "cell_type": "code",
   "execution_count": 4,
   "metadata": {},
   "outputs": [
    {
     "name": "stderr",
     "output_type": "stream",
     "text": [
      "ERROR: Could not find a version that satisfies the requirement arabic-diacritics (from versions: none)\n",
      "ERROR: No matching distribution found for arabic-diacritics\n",
      "\n",
      "[notice] A new release of pip is available: 23.2.1 -> 23.3.2\n",
      "[notice] To update, run: python.exe -m pip install --upgrade pip\n"
     ]
    }
   ],
   "source": [
    "!pip install arabic-diacritics"
   ]
  },
  {
   "cell_type": "code",
   "execution_count": 5,
   "metadata": {
    "colab": {
     "base_uri": "https://localhost:8080/"
    },
    "id": "gkDPWRM0zL4p",
    "outputId": "189d0542-b20a-4c12-815b-f2e3bcdd7905"
   },
   "outputs": [
    {
     "name": "stdout",
     "output_type": "stream",
     "text": [
      "Requirement already satisfied: farasa in c:\\users\\yousef\\appdata\\local\\programs\\python\\python312\\lib\\site-packages (0.0.1)\n",
      "Requirement already satisfied: langid in c:\\users\\yousef\\appdata\\local\\programs\\python\\python312\\lib\\site-packages (1.1.6)\n",
      "Requirement already satisfied: nltk in c:\\users\\yousef\\appdata\\local\\programs\\python\\python312\\lib\\site-packages (3.8.1)\n",
      "Requirement already satisfied: numpy in c:\\users\\yousef\\appdata\\local\\programs\\python\\python312\\lib\\site-packages (from langid) (1.26.2)\n",
      "Requirement already satisfied: click in c:\\users\\yousef\\appdata\\local\\programs\\python\\python312\\lib\\site-packages (from nltk) (8.1.7)\n",
      "Requirement already satisfied: joblib in c:\\users\\yousef\\appdata\\local\\programs\\python\\python312\\lib\\site-packages (from nltk) (1.3.2)\n",
      "Requirement already satisfied: regex>=2021.8.3 in c:\\users\\yousef\\appdata\\local\\programs\\python\\python312\\lib\\site-packages (from nltk) (2023.10.3)\n",
      "Requirement already satisfied: tqdm in c:\\users\\yousef\\appdata\\local\\programs\\python\\python312\\lib\\site-packages (from nltk) (4.66.1)\n",
      "Requirement already satisfied: colorama in c:\\users\\yousef\\appdata\\local\\programs\\python\\python312\\lib\\site-packages (from click->nltk) (0.4.6)\n"
     ]
    },
    {
     "name": "stderr",
     "output_type": "stream",
     "text": [
      "\n",
      "[notice] A new release of pip is available: 23.2.1 -> 23.3.2\n",
      "[notice] To update, run: python.exe -m pip install --upgrade pip\n"
     ]
    }
   ],
   "source": [
    "!pip install farasa langid nltk"
   ]
  },
  {
   "cell_type": "code",
   "execution_count": 6,
   "metadata": {
    "colab": {
     "base_uri": "https://localhost:8080/"
    },
    "id": "F2qA5bRHzmzB",
    "outputId": "183f9fcd-2b03-4941-c423-f9e62f0faac1"
   },
   "outputs": [
    {
     "name": "stdout",
     "output_type": "stream",
     "text": [
      "Collecting git+https://github.com/monraq/farasa-python.git\n",
      "  Cloning https://github.com/monraq/farasa-python.git to c:\\users\\yousef\\appdata\\local\\temp\\pip-req-build-akjz39a6\n"
     ]
    },
    {
     "name": "stderr",
     "output_type": "stream",
     "text": [
      "  Running command git clone --filter=blob:none --quiet https://github.com/monraq/farasa-python.git 'C:\\Users\\Yousef\\AppData\\Local\\Temp\\pip-req-build-akjz39a6'\n",
      "  fatal: helper error (-1): User cancelled dialog.\n",
      "  bash: /dev/tty: No such device or address\n",
      "  error: failed to execute prompt script (exit code 1)\n",
      "  fatal: could not read Username for 'https://github.com': No such file or directory\n",
      "  error: subprocess-exited-with-error\n",
      "  \n",
      "  git clone --filter=blob:none --quiet https://github.com/monraq/farasa-python.git 'C:\\Users\\Yousef\\AppData\\Local\\Temp\\pip-req-build-akjz39a6' did not run successfully.\n",
      "  exit code: 128\n",
      "  \n",
      "  See above for output.\n",
      "  \n",
      "  note: This error originates from a subprocess, and is likely not a problem with pip.\n",
      "error: subprocess-exited-with-error\n",
      "\n",
      "git clone --filter=blob:none --quiet https://github.com/monraq/farasa-python.git 'C:\\Users\\Yousef\\AppData\\Local\\Temp\\pip-req-build-akjz39a6' did not run successfully.\n",
      "exit code: 128\n",
      "\n",
      "See above for output.\n",
      "\n",
      "note: This error originates from a subprocess, and is likely not a problem with pip.\n",
      "\n",
      "[notice] A new release of pip is available: 23.2.1 -> 23.3.2\n",
      "[notice] To update, run: python.exe -m pip install --upgrade pip\n"
     ]
    }
   ],
   "source": [
    "!pip install git+https://github.com/monraq/farasa-python.git"
   ]
  },
  {
   "cell_type": "code",
   "execution_count": 7,
   "metadata": {},
   "outputs": [
    {
     "name": "stdout",
     "output_type": "stream",
     "text": [
      "Requirement already satisfied: openpyxl in c:\\users\\yousef\\appdata\\local\\programs\\python\\python312\\lib\\site-packages (3.1.2)\n",
      "Requirement already satisfied: et-xmlfile in c:\\users\\yousef\\appdata\\local\\programs\\python\\python312\\lib\\site-packages (from openpyxl) (1.1.0)\n",
      "Note: you may need to restart the kernel to use updated packages.\n"
     ]
    },
    {
     "name": "stderr",
     "output_type": "stream",
     "text": [
      "\n",
      "[notice] A new release of pip is available: 23.2.1 -> 23.3.2\n",
      "[notice] To update, run: python.exe -m pip install --upgrade pip\n"
     ]
    }
   ],
   "source": [
    "pip install openpyxl"
   ]
  },
  {
   "cell_type": "code",
   "execution_count": 8,
   "metadata": {},
   "outputs": [
    {
     "name": "stdout",
     "output_type": "stream",
     "text": [
      "Requirement already satisfied: arabic-reshaper in c:\\users\\yousef\\appdata\\local\\programs\\python\\python312\\lib\\site-packages (3.0.0)\n",
      "Note: you may need to restart the kernel to use updated packages.\n"
     ]
    },
    {
     "name": "stderr",
     "output_type": "stream",
     "text": [
      "\n",
      "[notice] A new release of pip is available: 23.2.1 -> 23.3.2\n",
      "[notice] To update, run: python.exe -m pip install --upgrade pip\n"
     ]
    }
   ],
   "source": [
    "pip install arabic-reshaper"
   ]
  },
  {
   "cell_type": "code",
   "execution_count": 9,
   "metadata": {},
   "outputs": [
    {
     "name": "stdout",
     "output_type": "stream",
     "text": [
      "Requirement already satisfied: python-bidi in c:\\users\\yousef\\appdata\\local\\programs\\python\\python312\\lib\\site-packages (0.4.2)\n",
      "Requirement already satisfied: six in c:\\users\\yousef\\appdata\\local\\programs\\python\\python312\\lib\\site-packages (from python-bidi) (1.16.0)\n",
      "Note: you may need to restart the kernel to use updated packages.\n"
     ]
    },
    {
     "name": "stderr",
     "output_type": "stream",
     "text": [
      "\n",
      "[notice] A new release of pip is available: 23.2.1 -> 23.3.2\n",
      "[notice] To update, run: python.exe -m pip install --upgrade pip\n"
     ]
    }
   ],
   "source": [
    "pip install python-bidi"
   ]
  },
  {
   "cell_type": "code",
   "execution_count": 10,
   "metadata": {},
   "outputs": [
    {
     "name": "stdout",
     "output_type": "stream",
     "text": [
      "Requirement already satisfied: networkx in c:\\users\\yousef\\appdata\\local\\programs\\python\\python312\\lib\\site-packages (3.2.1)"
     ]
    },
    {
     "name": "stderr",
     "output_type": "stream",
     "text": [
      "\n",
      "[notice] A new release of pip is available: 23.2.1 -> 23.3.2\n",
      "[notice] To update, run: python.exe -m pip install --upgrade pip\n"
     ]
    },
    {
     "name": "stdout",
     "output_type": "stream",
     "text": [
      "\n"
     ]
    }
   ],
   "source": [
    "!pip install networkx"
   ]
  },
  {
   "cell_type": "markdown",
   "metadata": {
    "id": "MprHHA7qv3yK"
   },
   "source": [
    "### **Reading Excel File**"
   ]
  },
  {
   "cell_type": "code",
   "execution_count": 11,
   "metadata": {
    "id": "2l4p6hEEhdzD"
   },
   "outputs": [],
   "source": [
    "complaints=pd.read_excel(\"Complaints dataset.xlsx\")"
   ]
  },
  {
   "cell_type": "markdown",
   "metadata": {
    "id": "JcoTbaz8wMdh"
   },
   "source": [
    "# **Data Preprocessing:**"
   ]
  },
  {
   "cell_type": "code",
   "execution_count": 12,
   "metadata": {
    "colab": {
     "base_uri": "https://localhost:8080/",
     "height": 283
    },
    "id": "_rYwvVuyhi7P",
    "outputId": "b5345349-003a-4234-8822-d499d75b63a8"
   },
   "outputs": [
    {
     "data": {
      "text/html": [
       "<div>\n",
       "<style scoped>\n",
       "    .dataframe tbody tr th:only-of-type {\n",
       "        vertical-align: middle;\n",
       "    }\n",
       "\n",
       "    .dataframe tbody tr th {\n",
       "        vertical-align: top;\n",
       "    }\n",
       "\n",
       "    .dataframe thead th {\n",
       "        text-align: right;\n",
       "    }\n",
       "</style>\n",
       "<table border=\"1\" class=\"dataframe\">\n",
       "  <thead>\n",
       "    <tr style=\"text-align: right;\">\n",
       "      <th></th>\n",
       "      <th>OFFER_NAME</th>\n",
       "      <th>CUSTOMER_TYPE</th>\n",
       "      <th>COMPLAINT_TYPE</th>\n",
       "      <th>PRODUCT</th>\n",
       "      <th>CASE_LEVEL_1</th>\n",
       "      <th>CASE_LEVEL_2</th>\n",
       "      <th>CASE_LEVEL_3</th>\n",
       "      <th>CUSTOMER_GROUP</th>\n",
       "      <th>CURRENT_STATUS</th>\n",
       "      <th>ESCALATION_FLAG</th>\n",
       "      <th>...</th>\n",
       "      <th>CLOSE_GROUP</th>\n",
       "      <th>AGE_BRACKET</th>\n",
       "      <th>ACTUAL_COMPLAINT</th>\n",
       "      <th>CALLBACK_MECHANISM</th>\n",
       "      <th>RESOLUTION</th>\n",
       "      <th>RESOLUTION_DESCRIPTION</th>\n",
       "      <th>CASE_DESC</th>\n",
       "      <th>OPEN_GR</th>\n",
       "      <th>Unnamed: 22</th>\n",
       "      <th>Unnamed: 23</th>\n",
       "    </tr>\n",
       "  </thead>\n",
       "  <tbody>\n",
       "    <tr>\n",
       "      <th>0</th>\n",
       "      <td>FTTH Home</td>\n",
       "      <td>CBU</td>\n",
       "      <td>Technical</td>\n",
       "      <td>Internet</td>\n",
       "      <td>Technical complaint</td>\n",
       "      <td>TC_INTERNET_CONFIGURATION</td>\n",
       "      <td>SNW-FTTH - WAN configuration / Tools</td>\n",
       "      <td>FTTH Home</td>\n",
       "      <td>Resolved</td>\n",
       "      <td>No</td>\n",
       "      <td>...</td>\n",
       "      <td>NaN</td>\n",
       "      <td>1</td>\n",
       "      <td>User Not Filled</td>\n",
       "      <td>NaN</td>\n",
       "      <td>NaN</td>\n",
       "      <td>NaN</td>\n",
       "      <td>إعادة برمجة من النظامby Sultan</td>\n",
       "      <td>NaN</td>\n",
       "      <td>NaN</td>\n",
       "      <td>NaN</td>\n",
       "    </tr>\n",
       "    <tr>\n",
       "      <th>1</th>\n",
       "      <td>NaN</td>\n",
       "      <td>CBU</td>\n",
       "      <td>Technical</td>\n",
       "      <td>Mobile</td>\n",
       "      <td>Technical complaint</td>\n",
       "      <td>TC_INTERNET_CONNEXION</td>\n",
       "      <td>4G - Frequent Disconnection</td>\n",
       "      <td>NaN</td>\n",
       "      <td>Resolved</td>\n",
       "      <td>Yes</td>\n",
       "      <td>...</td>\n",
       "      <td>Mobile_BO</td>\n",
       "      <td>1</td>\n",
       "      <td>Actual Complaint</td>\n",
       "      <td>SMS</td>\n",
       "      <td>Coverage script was sent to the customer</td>\n",
       "      <td>The customer should pay TF + all due amounts i...</td>\n",
       "      <td>عدم التصفح وسوء الخدمه والرجاء اتخاذ قرار ...</td>\n",
       "      <td>System Administrator</td>\n",
       "      <td>NaN</td>\n",
       "      <td>NaN</td>\n",
       "    </tr>\n",
       "  </tbody>\n",
       "</table>\n",
       "<p>2 rows × 24 columns</p>\n",
       "</div>"
      ],
      "text/plain": [
       "  OFFER_NAME CUSTOMER_TYPE COMPLAINT_TYPE   PRODUCT         CASE_LEVEL_1  \\\n",
       "0  FTTH Home           CBU      Technical  Internet  Technical complaint   \n",
       "1        NaN           CBU      Technical    Mobile  Technical complaint   \n",
       "\n",
       "                CASE_LEVEL_2                          CASE_LEVEL_3  \\\n",
       "0  TC_INTERNET_CONFIGURATION  SNW-FTTH - WAN configuration / Tools   \n",
       "1      TC_INTERNET_CONNEXION           4G - Frequent Disconnection   \n",
       "\n",
       "  CUSTOMER_GROUP CURRENT_STATUS ESCALATION_FLAG  ... CLOSE_GROUP AGE_BRACKET  \\\n",
       "0      FTTH Home       Resolved              No  ...         NaN           1   \n",
       "1            NaN       Resolved             Yes  ...   Mobile_BO           1   \n",
       "\n",
       "   ACTUAL_COMPLAINT CALLBACK_MECHANISM  \\\n",
       "0   User Not Filled                NaN   \n",
       "1  Actual Complaint                SMS   \n",
       "\n",
       "                                 RESOLUTION  \\\n",
       "0                                       NaN   \n",
       "1  Coverage script was sent to the customer   \n",
       "\n",
       "                              RESOLUTION_DESCRIPTION  \\\n",
       "0                                                NaN   \n",
       "1  The customer should pay TF + all due amounts i...   \n",
       "\n",
       "                                           CASE_DESC               OPEN_GR  \\\n",
       "0                     إعادة برمجة من النظامby Sultan                   NaN   \n",
       "1      عدم التصفح وسوء الخدمه والرجاء اتخاذ قرار ...  System Administrator   \n",
       "\n",
       "  Unnamed: 22 Unnamed: 23  \n",
       "0         NaN         NaN  \n",
       "1         NaN         NaN  \n",
       "\n",
       "[2 rows x 24 columns]"
      ]
     },
     "execution_count": 12,
     "metadata": {},
     "output_type": "execute_result"
    }
   ],
   "source": [
    "complaints.head(2)"
   ]
  },
  {
   "cell_type": "code",
   "execution_count": 13,
   "metadata": {
    "id": "FKj2U1a2p45J"
   },
   "outputs": [],
   "source": [
    "# Removing duplicates from the dataset\n",
    "complaints.drop_duplicates(subset=['CASE_DESC'], inplace=True)"
   ]
  },
  {
   "cell_type": "code",
   "execution_count": 14,
   "metadata": {
    "id": "vzKSK91XwxOo"
   },
   "outputs": [],
   "source": [
    "compl=complaints.copy()"
   ]
  },
  {
   "cell_type": "code",
   "execution_count": 15,
   "metadata": {
    "colab": {
     "base_uri": "https://localhost:8080/"
    },
    "id": "wu7Gg8nMxjE5",
    "outputId": "27fdcfa2-1f42-4b78-e13b-5b454a747243"
   },
   "outputs": [
    {
     "data": {
      "text/plain": [
       "0                            إعادة برمجة من النظامby Sultan\n",
       "1             عدم التصفح وسوء الخدمه والرجاء اتخاذ قرار ...\n",
       "2            Activation date Sep 22 2022  لم يتم اضافة ا...\n",
       "3                                                      GAIA\n",
       "4                                               Interrupted\n",
       "                                ...                        \n",
       "276287                                               ئئسسسئ\n",
       "276288                                                  ئئئ\n",
       "276289                                                 ئئئء\n",
       "276290                                                 ئئئئ\n",
       "276291                                                ئئئئئ\n",
       "Name: CASE_DESC, Length: 141503, dtype: object"
      ]
     },
     "execution_count": 15,
     "metadata": {},
     "output_type": "execute_result"
    }
   ],
   "source": [
    "compl['CASE_DESC']"
   ]
  },
  {
   "cell_type": "markdown",
   "metadata": {
    "id": "dz1G3C9JLdip"
   },
   "source": [
    "## **Cleaning**"
   ]
  },
  {
   "cell_type": "markdown",
   "metadata": {
    "id": "Uyy1kaSoQwjp"
   },
   "source": [
    "### **Preprocessing for English**"
   ]
  },
  {
   "cell_type": "code",
   "execution_count": 16,
   "metadata": {
    "id": "TYymre5nA6zc"
   },
   "outputs": [],
   "source": [
    "from nltk.stem import PorterStemmer\n",
    "\n",
    "import re\n",
    "\n",
    "def clean_english_text(text):\n",
    "    # Remove special characters\n",
    "    text = re.sub(r'[!@#\\$&*\\_\\-\\.\\,\\:\\;\\'\\\"\\(\\)\\[\\]\\{\\}/\\\\\\\\%]', '', text)\n",
    "\n",
    "    # Tokenize the English text\n",
    "    words = word_tokenize(text)\n",
    "\n",
    "    # Remove stop words\n",
    "    stop_words_english = set(stopwords.words('english'))\n",
    "    words = [word for word in words if word.lower() not in stop_words_english]\n",
    "\n",
    "    # Stemming using Porter Stemmer\n",
    "    stemmer = PorterStemmer()\n",
    "    words = [stemmer.stem(word) for word in words]\n",
    "\n",
    "    # Joining the words back into a single string\n",
    "    cleaned_text = ' '.join(words)\n",
    "\n",
    "    return cleaned_text\n",
    "\n",
    "compl['cleaned_english_column'] = compl['CASE_DESC'].apply(clean_english_text)"
   ]
  },
  {
   "cell_type": "code",
   "execution_count": 17,
   "metadata": {
    "colab": {
     "base_uri": "https://localhost:8080/",
     "height": 1000
    },
    "id": "Z8l2Qt7ECRQ-",
    "outputId": "3c0332bc-14a6-4ec7-abd4-c5d8316b38fe"
   },
   "outputs": [
    {
     "data": {
      "text/html": [
       "<div>\n",
       "<style scoped>\n",
       "    .dataframe tbody tr th:only-of-type {\n",
       "        vertical-align: middle;\n",
       "    }\n",
       "\n",
       "    .dataframe tbody tr th {\n",
       "        vertical-align: top;\n",
       "    }\n",
       "\n",
       "    .dataframe thead th {\n",
       "        text-align: right;\n",
       "    }\n",
       "</style>\n",
       "<table border=\"1\" class=\"dataframe\">\n",
       "  <thead>\n",
       "    <tr style=\"text-align: right;\">\n",
       "      <th></th>\n",
       "      <th>CASE_DESC</th>\n",
       "      <th>cleaned_english_column</th>\n",
       "    </tr>\n",
       "  </thead>\n",
       "  <tbody>\n",
       "    <tr>\n",
       "      <th>0</th>\n",
       "      <td>إعادة برمجة من النظامby Sultan</td>\n",
       "      <td>إعادة برمجة من النظامbi sultan</td>\n",
       "    </tr>\n",
       "    <tr>\n",
       "      <th>1</th>\n",
       "      <td>عدم التصفح وسوء الخدمه والرجاء اتخاذ قرار ...</td>\n",
       "      <td>عدم التصفح وسوء الخدمه والرجاء اتخاذ قرار في ذ...</td>\n",
       "    </tr>\n",
       "    <tr>\n",
       "      <th>2</th>\n",
       "      <td>Activation date Sep 22 2022  لم يتم اضافة ا...</td>\n",
       "      <td>activ date sep 22 2022 لم يتم اضافة الحزم رقم ...</td>\n",
       "    </tr>\n",
       "    <tr>\n",
       "      <th>3</th>\n",
       "      <td>GAIA</td>\n",
       "      <td>gaia</td>\n",
       "    </tr>\n",
       "    <tr>\n",
       "      <th>4</th>\n",
       "      <td>Interrupted</td>\n",
       "      <td>interrupt</td>\n",
       "    </tr>\n",
       "    <tr>\n",
       "      <th>7</th>\n",
       "      <td>Never connected ONT  UnknownCONTACT NUMBER ...</td>\n",
       "      <td>never connect ont unknowncontact number 077715...</td>\n",
       "    </tr>\n",
       "    <tr>\n",
       "      <th>8</th>\n",
       "      <td>Never connected ONTUnknown07994746460790205560</td>\n",
       "      <td>never connect ontunknown07994746460790205560</td>\n",
       "    </tr>\n",
       "    <tr>\n",
       "      <th>9</th>\n",
       "      <td>Never connected ONTاعادة الاتصال من جانب ال...</td>\n",
       "      <td>never connect ontاعادة الاتصال من جانب المودم</td>\n",
       "    </tr>\n",
       "    <tr>\n",
       "      <th>10</th>\n",
       "      <td>Never connected ONTالمشترك رافع السرعه  وتم...</td>\n",
       "      <td>never connect ontالمشترك رافع السرعه وتم الدخو...</td>\n",
       "    </tr>\n",
       "    <tr>\n",
       "      <th>11</th>\n",
       "      <td>Never connected ONTالمشترك لا يستطيع الدخول...</td>\n",
       "      <td>never connect ontالمشترك لا يستطيع الدخول للمو...</td>\n",
       "    </tr>\n",
       "    <tr>\n",
       "      <th>12</th>\n",
       "      <td>Never connected ONTمشكلة برمجية على الموديم...</td>\n",
       "      <td>never connect ontمشكلة برمجية على الموديممسجلة...</td>\n",
       "    </tr>\n",
       "    <tr>\n",
       "      <th>13</th>\n",
       "      <td>Reduced robustness</td>\n",
       "      <td>reduc robust</td>\n",
       "    </tr>\n",
       "    <tr>\n",
       "      <th>15</th>\n",
       "      <td>Reduced robustness Minimum: -29.21 dBmMaxim...</td>\n",
       "      <td>reduc robust minimum 2921 dbmmaximum 2824 dbma...</td>\n",
       "    </tr>\n",
       "    <tr>\n",
       "      <th>16</th>\n",
       "      <td>Switched off</td>\n",
       "      <td>switch</td>\n",
       "    </tr>\n",
       "    <tr>\n",
       "      <th>26</th>\n",
       "      <td>Unknown    INT0414380after upgrade to 200</td>\n",
       "      <td>unknown int0414380aft upgrad 200</td>\n",
       "    </tr>\n",
       "    <tr>\n",
       "      <th>27</th>\n",
       "      <td>Your search query for \"INT0189787\" didn't r...</td>\n",
       "      <td>search queri int0189787 didnt return result er...</td>\n",
       "    </tr>\n",
       "    <tr>\n",
       "      <th>28</th>\n",
       "      <td>Your search query for \"INT0816843\" didn't r...</td>\n",
       "      <td>search queri int0816843 didnt return result er...</td>\n",
       "    </tr>\n",
       "    <tr>\n",
       "      <th>29</th>\n",
       "      <td>Your search query for \"INT0822702\" didn't r...</td>\n",
       "      <td>search queri int0822702 didnt return result er...</td>\n",
       "    </tr>\n",
       "    <tr>\n",
       "      <th>30</th>\n",
       "      <td>-- 21/7  تاريخ استلام الخطjood 077513887789962...</td>\n",
       "      <td>217 تاريخ استلام الخطjood 07751388778996277010...</td>\n",
       "    </tr>\n",
       "    <tr>\n",
       "      <th>31</th>\n",
       "      <td>-  الزرقاء -   حي السخنه  -   إسكان الكوثر    ...</td>\n",
       "      <td>الزرقاء حي السخنه إسكان الكوثر 321383849989663...</td>\n",
       "    </tr>\n",
       "    <tr>\n",
       "      <th>32</th>\n",
       "      <td>-  عمان - حي الربوه -  اسكان المرقب  شارع بيت ...</td>\n",
       "      <td>عمان حي الربوه اسكان المرقب شارع بيت الحرام319...</td>\n",
       "    </tr>\n",
       "    <tr>\n",
       "      <th>33</th>\n",
       "      <td>- 775195053 رقم التواصل - 778014693 رقم الاشتر...</td>\n",
       "      <td>775195053 رقم التواصل 778014693 رقم الاشتراك 3...</td>\n",
       "    </tr>\n",
       "    <tr>\n",
       "      <th>34</th>\n",
       "      <td>- تاريخ استلام الخط 12/ 7- رقم الخط 0775118865...</td>\n",
       "      <td>تاريخ استلام الخط 12 7 رقم الخط 0775118865 الر...</td>\n",
       "    </tr>\n",
       "    <tr>\n",
       "      <th>35</th>\n",
       "      <td>- مراقبة الاشتراك خلال الساعات القادمة // في ...</td>\n",
       "      <td>مراقبة الاشتراك خلال الساعات القادمة في حال تك...</td>\n",
       "    </tr>\n",
       "    <tr>\n",
       "      <th>36</th>\n",
       "      <td>اشارة الانترنت تختفي فجأة ثم تعود  4g+ ولا ...</td>\n",
       "      <td>اشارة الانترنت تختفي فجأة ثم تعود 4g+ ولا استط...</td>\n",
       "    </tr>\n",
       "    <tr>\n",
       "      <th>37</th>\n",
       "      <td>اضاءة ال5G  لا تعمل</td>\n",
       "      <td>اضاءة ال5g لا تعمل</td>\n",
       "    </tr>\n",
       "    <tr>\n",
       "      <th>38</th>\n",
       "      <td>القراءات ممتازة لكن المشترك مصر على تسجيل ع...</td>\n",
       "      <td>القراءات ممتازة لكن المشترك مصر على تسجيل عطل ...</td>\n",
       "    </tr>\n",
       "    <tr>\n",
       "      <th>41</th>\n",
       "      <td>القراءات ممتازة لكن المشترك مصر على تسجيل ع...</td>\n",
       "      <td>القراءات ممتازة لكن المشترك مصر على تسجيل عطل ...</td>\n",
       "    </tr>\n",
       "    <tr>\n",
       "      <th>42</th>\n",
       "      <td>القراءات ممتازة لكن المشترك مصر على تسجيل ع...</td>\n",
       "      <td>القراءات ممتازة لكن المشترك مصر على تسجيل عطل ...</td>\n",
       "    </tr>\n",
       "    <tr>\n",
       "      <th>43</th>\n",
       "      <td>القراءات ممتازة لكن المشترك مصر على تسجيل ع...</td>\n",
       "      <td>القراءات ممتازة لكن المشترك مصر على تسجيل عطل ...</td>\n",
       "    </tr>\n",
       "    <tr>\n",
       "      <th>44</th>\n",
       "      <td>القراءات ممتازة لكن المشترك مصر على تسجيل ع...</td>\n",
       "      <td>القراءات ممتازة لكن المشترك مصر على تسجيل عطل ...</td>\n",
       "    </tr>\n",
       "    <tr>\n",
       "      <th>48</th>\n",
       "      <td>القراءات ممتازة لكن المشترك مصر على تسجيل ع...</td>\n",
       "      <td>القراءات ممتازة لكن المشترك مصر على تسجيل عطل ...</td>\n",
       "    </tr>\n",
       "    <tr>\n",
       "      <th>49</th>\n",
       "      <td>القراءات ممتازة لكن المشترك مصر على تسجيل ع...</td>\n",
       "      <td>القراءات ممتازة لكن المشترك مصر على تسجيل عطل ...</td>\n",
       "    </tr>\n",
       "    <tr>\n",
       "      <th>50</th>\n",
       "      <td>القراءات ممتازة لكن المشتركيقول ان المودم ي...</td>\n",
       "      <td>القراءات ممتازة لكن المشتركيقول ان المودم يطفئ...</td>\n",
       "    </tr>\n",
       "    <tr>\n",
       "      <th>51</th>\n",
       "      <td>القراءات ممتازة لكن المشتركيقول انه يواجه م...</td>\n",
       "      <td>القراءات ممتازة لكن المشتركيقول انه يواجه مشكل...</td>\n",
       "    </tr>\n",
       "    <tr>\n",
       "      <th>52</th>\n",
       "      <td>الكرك المزار الجنوبي العينة</td>\n",
       "      <td>الكرك المزار الجنوبي العينة</td>\n",
       "    </tr>\n",
       "    <tr>\n",
       "      <th>53</th>\n",
       "      <td>المشترك اخد العرض بقيمة اشتراك 23.20ولكن ال...</td>\n",
       "      <td>المشترك اخد العرض بقيمة اشتراك 2320ولكن الخصم ...</td>\n",
       "    </tr>\n",
       "    <tr>\n",
       "      <th>54</th>\n",
       "      <td>المشتكي بالماي فاي بتاريخ30/7/2022 وثاني يو...</td>\n",
       "      <td>المشتكي بالماي فاي بتاريخ3072022 وثاني يوم قام...</td>\n",
       "    </tr>\n",
       "    <tr>\n",
       "      <th>55</th>\n",
       "      <td>تغير التردد وباس واسم الشبكة</td>\n",
       "      <td>تغير التردد وباس واسم الشبكة</td>\n",
       "    </tr>\n",
       "    <tr>\n",
       "      <th>56</th>\n",
       "      <td>تم الاتفاق معه ع اشتراك 20.88 والاشتراك الف...</td>\n",
       "      <td>تم الاتفاق معه ع اشتراك 2088 والاشتراك الفعلي ...</td>\n",
       "    </tr>\n",
       "  </tbody>\n",
       "</table>\n",
       "</div>"
      ],
      "text/plain": [
       "                                            CASE_DESC  \\\n",
       "0                      إعادة برمجة من النظامby Sultan   \n",
       "1       عدم التصفح وسوء الخدمه والرجاء اتخاذ قرار ...   \n",
       "2      Activation date Sep 22 2022  لم يتم اضافة ا...   \n",
       "3                                                GAIA   \n",
       "4                                         Interrupted   \n",
       "7      Never connected ONT  UnknownCONTACT NUMBER ...   \n",
       "8      Never connected ONTUnknown07994746460790205560   \n",
       "9      Never connected ONTاعادة الاتصال من جانب ال...   \n",
       "10     Never connected ONTالمشترك رافع السرعه  وتم...   \n",
       "11     Never connected ONTالمشترك لا يستطيع الدخول...   \n",
       "12     Never connected ONTمشكلة برمجية على الموديم...   \n",
       "13                                 Reduced robustness   \n",
       "15     Reduced robustness Minimum: -29.21 dBmMaxim...   \n",
       "16                                       Switched off   \n",
       "26          Unknown    INT0414380after upgrade to 200   \n",
       "27     Your search query for \"INT0189787\" didn't r...   \n",
       "28     Your search query for \"INT0816843\" didn't r...   \n",
       "29     Your search query for \"INT0822702\" didn't r...   \n",
       "30  -- 21/7  تاريخ استلام الخطjood 077513887789962...   \n",
       "31  -  الزرقاء -   حي السخنه  -   إسكان الكوثر    ...   \n",
       "32  -  عمان - حي الربوه -  اسكان المرقب  شارع بيت ...   \n",
       "33  - 775195053 رقم التواصل - 778014693 رقم الاشتر...   \n",
       "34  - تاريخ استلام الخط 12/ 7- رقم الخط 0775118865...   \n",
       "35   - مراقبة الاشتراك خلال الساعات القادمة // في ...   \n",
       "36     اشارة الانترنت تختفي فجأة ثم تعود  4g+ ولا ...   \n",
       "37                               اضاءة ال5G  لا تعمل    \n",
       "38     القراءات ممتازة لكن المشترك مصر على تسجيل ع...   \n",
       "41     القراءات ممتازة لكن المشترك مصر على تسجيل ع...   \n",
       "42     القراءات ممتازة لكن المشترك مصر على تسجيل ع...   \n",
       "43     القراءات ممتازة لكن المشترك مصر على تسجيل ع...   \n",
       "44     القراءات ممتازة لكن المشترك مصر على تسجيل ع...   \n",
       "48     القراءات ممتازة لكن المشترك مصر على تسجيل ع...   \n",
       "49     القراءات ممتازة لكن المشترك مصر على تسجيل ع...   \n",
       "50     القراءات ممتازة لكن المشتركيقول ان المودم ي...   \n",
       "51     القراءات ممتازة لكن المشتركيقول انه يواجه م...   \n",
       "52                        الكرك المزار الجنوبي العينة   \n",
       "53     المشترك اخد العرض بقيمة اشتراك 23.20ولكن ال...   \n",
       "54     المشتكي بالماي فاي بتاريخ30/7/2022 وثاني يو...   \n",
       "55                       تغير التردد وباس واسم الشبكة   \n",
       "56     تم الاتفاق معه ع اشتراك 20.88 والاشتراك الف...   \n",
       "\n",
       "                               cleaned_english_column  \n",
       "0                      إعادة برمجة من النظامbi sultan  \n",
       "1   عدم التصفح وسوء الخدمه والرجاء اتخاذ قرار في ذ...  \n",
       "2   activ date sep 22 2022 لم يتم اضافة الحزم رقم ...  \n",
       "3                                                gaia  \n",
       "4                                           interrupt  \n",
       "7   never connect ont unknowncontact number 077715...  \n",
       "8        never connect ontunknown07994746460790205560  \n",
       "9       never connect ontاعادة الاتصال من جانب المودم  \n",
       "10  never connect ontالمشترك رافع السرعه وتم الدخو...  \n",
       "11  never connect ontالمشترك لا يستطيع الدخول للمو...  \n",
       "12  never connect ontمشكلة برمجية على الموديممسجلة...  \n",
       "13                                       reduc robust  \n",
       "15  reduc robust minimum 2921 dbmmaximum 2824 dbma...  \n",
       "16                                             switch  \n",
       "26                   unknown int0414380aft upgrad 200  \n",
       "27  search queri int0189787 didnt return result er...  \n",
       "28  search queri int0816843 didnt return result er...  \n",
       "29  search queri int0822702 didnt return result er...  \n",
       "30  217 تاريخ استلام الخطjood 07751388778996277010...  \n",
       "31  الزرقاء حي السخنه إسكان الكوثر 321383849989663...  \n",
       "32  عمان حي الربوه اسكان المرقب شارع بيت الحرام319...  \n",
       "33  775195053 رقم التواصل 778014693 رقم الاشتراك 3...  \n",
       "34  تاريخ استلام الخط 12 7 رقم الخط 0775118865 الر...  \n",
       "35  مراقبة الاشتراك خلال الساعات القادمة في حال تك...  \n",
       "36  اشارة الانترنت تختفي فجأة ثم تعود 4g+ ولا استط...  \n",
       "37                                 اضاءة ال5g لا تعمل  \n",
       "38  القراءات ممتازة لكن المشترك مصر على تسجيل عطل ...  \n",
       "41  القراءات ممتازة لكن المشترك مصر على تسجيل عطل ...  \n",
       "42  القراءات ممتازة لكن المشترك مصر على تسجيل عطل ...  \n",
       "43  القراءات ممتازة لكن المشترك مصر على تسجيل عطل ...  \n",
       "44  القراءات ممتازة لكن المشترك مصر على تسجيل عطل ...  \n",
       "48  القراءات ممتازة لكن المشترك مصر على تسجيل عطل ...  \n",
       "49  القراءات ممتازة لكن المشترك مصر على تسجيل عطل ...  \n",
       "50  القراءات ممتازة لكن المشتركيقول ان المودم يطفئ...  \n",
       "51  القراءات ممتازة لكن المشتركيقول انه يواجه مشكل...  \n",
       "52                        الكرك المزار الجنوبي العينة  \n",
       "53  المشترك اخد العرض بقيمة اشتراك 2320ولكن الخصم ...  \n",
       "54  المشتكي بالماي فاي بتاريخ3072022 وثاني يوم قام...  \n",
       "55                       تغير التردد وباس واسم الشبكة  \n",
       "56  تم الاتفاق معه ع اشتراك 2088 والاشتراك الفعلي ...  "
      ]
     },
     "execution_count": 17,
     "metadata": {},
     "output_type": "execute_result"
    }
   ],
   "source": [
    "compl[['CASE_DESC','cleaned_english_column']].head(40)"
   ]
  },
  {
   "cell_type": "markdown",
   "metadata": {
    "id": "goc4chJeQ3yJ"
   },
   "source": [
    "### **Preprocessing for Arabic**"
   ]
  },
  {
   "cell_type": "code",
   "execution_count": 18,
   "metadata": {
    "id": "1Q3zlfvcKnwy"
   },
   "outputs": [],
   "source": [
    "import re\n",
    "from nltk.corpus import stopwords\n",
    "from nltk.tokenize import word_tokenize\n",
    "\n",
    "def remove_harakat_shadda(word):\n",
    "    # Remove harakat (diacritics)\n",
    "    cleaned_word = re.sub(r'[\\u0617-\\u061A\\u064B-\\u0652]', '', word)\n",
    "    # Remove shadda (gemination mark)\n",
    "    cleaned_word = re.sub(r'\\u0651', '', cleaned_word)\n",
    "    return cleaned_word\n",
    "\n",
    "def remove_hamza(word):\n",
    "    # Remove standalone Hamza\n",
    "    cleaned_word = re.sub(r'ء', '', word)\n",
    "    return cleaned_word\n",
    "\n",
    "def remove_definite_article(word):\n",
    "    # Remove the definite article \"ال\"\n",
    "    cleaned_word = re.sub(r'^ال', '', word)\n",
    "    return cleaned_word\n",
    "\n",
    "def clean_text(text):\n",
    "    # Tokenizing the Arabic text\n",
    "    words = word_tokenize(text)\n",
    "\n",
    "    # Removing the stop words, applying Hamza removal, diacritics, shadda removal, and removing the definite article\n",
    "    stop_words_arabic = set(stopwords.words('arabic'))\n",
    "    words = [remove_definite_article(remove_harakat_shadda(remove_hamza(word))) for word in words if word not in stop_words_arabic]\n",
    "\n",
    "    # Joining the words back into a single string\n",
    "    cleaned_text = ' '.join(words)\n",
    "\n",
    "    return cleaned_text\n",
    "\n",
    "# Assuming 'compl' is your DataFrame\n",
    "compl['cleaned_column'] = compl['cleaned_english_column'].apply(clean_text)"
   ]
  },
  {
   "cell_type": "code",
   "execution_count": 19,
   "metadata": {
    "colab": {
     "base_uri": "https://localhost:8080/",
     "height": 1000
    },
    "id": "wr2b77AHLJDK",
    "outputId": "ce90be24-e1c1-430c-bbc5-f1d6efe6741e"
   },
   "outputs": [
    {
     "data": {
      "text/html": [
       "<div>\n",
       "<style scoped>\n",
       "    .dataframe tbody tr th:only-of-type {\n",
       "        vertical-align: middle;\n",
       "    }\n",
       "\n",
       "    .dataframe tbody tr th {\n",
       "        vertical-align: top;\n",
       "    }\n",
       "\n",
       "    .dataframe thead th {\n",
       "        text-align: right;\n",
       "    }\n",
       "</style>\n",
       "<table border=\"1\" class=\"dataframe\">\n",
       "  <thead>\n",
       "    <tr style=\"text-align: right;\">\n",
       "      <th></th>\n",
       "      <th>cleaned_english_column</th>\n",
       "      <th>cleaned_column</th>\n",
       "    </tr>\n",
       "  </thead>\n",
       "  <tbody>\n",
       "    <tr>\n",
       "      <th>0</th>\n",
       "      <td>إعادة برمجة من النظامbi sultan</td>\n",
       "      <td>إعادة برمجة نظامbi sultan</td>\n",
       "    </tr>\n",
       "    <tr>\n",
       "      <th>1</th>\n",
       "      <td>عدم التصفح وسوء الخدمه والرجاء اتخاذ قرار في ذ...</td>\n",
       "      <td>عدم تصفح وسو خدمه والرجا اتخاذ قرار سكان رويشد...</td>\n",
       "    </tr>\n",
       "    <tr>\n",
       "      <th>2</th>\n",
       "      <td>activ date sep 22 2022 لم يتم اضافة الحزم رقم ...</td>\n",
       "      <td>activ date sep 22 2022 يتم اضافة حزم رقم تواصل...</td>\n",
       "    </tr>\n",
       "    <tr>\n",
       "      <th>3</th>\n",
       "      <td>gaia</td>\n",
       "      <td>gaia</td>\n",
       "    </tr>\n",
       "    <tr>\n",
       "      <th>4</th>\n",
       "      <td>interrupt</td>\n",
       "      <td>interrupt</td>\n",
       "    </tr>\n",
       "    <tr>\n",
       "      <th>7</th>\n",
       "      <td>never connect ont unknowncontact number 077715...</td>\n",
       "      <td>never connect ont unknowncontact number 077715...</td>\n",
       "    </tr>\n",
       "    <tr>\n",
       "      <th>8</th>\n",
       "      <td>never connect ontunknown07994746460790205560</td>\n",
       "      <td>never connect ontunknown07994746460790205560</td>\n",
       "    </tr>\n",
       "    <tr>\n",
       "      <th>9</th>\n",
       "      <td>never connect ontاعادة الاتصال من جانب المودم</td>\n",
       "      <td>never connect ontاعادة اتصال جانب مودم</td>\n",
       "    </tr>\n",
       "    <tr>\n",
       "      <th>10</th>\n",
       "      <td>never connect ontالمشترك رافع السرعه وتم الدخو...</td>\n",
       "      <td>never connect ontالمشترك رافع سرعه وتم دخول ى ...</td>\n",
       "    </tr>\n",
       "    <tr>\n",
       "      <th>11</th>\n",
       "      <td>never connect ontالمشترك لا يستطيع الدخول للمو...</td>\n",
       "      <td>never connect ontالمشترك يستطيع دخول للموقع بش...</td>\n",
       "    </tr>\n",
       "    <tr>\n",
       "      <th>12</th>\n",
       "      <td>never connect ontمشكلة برمجية على الموديممسجلة...</td>\n",
       "      <td>never connect ontمشكلة برمجية موديممسجلة tcrm</td>\n",
       "    </tr>\n",
       "    <tr>\n",
       "      <th>13</th>\n",
       "      <td>reduc robust</td>\n",
       "      <td>reduc robust</td>\n",
       "    </tr>\n",
       "    <tr>\n",
       "      <th>15</th>\n",
       "      <td>reduc robust minimum 2921 dbmmaximum 2824 dbma...</td>\n",
       "      <td>reduc robust minimum 2921 dbmmaximum 2824 dbma...</td>\n",
       "    </tr>\n",
       "    <tr>\n",
       "      <th>16</th>\n",
       "      <td>switch</td>\n",
       "      <td>switch</td>\n",
       "    </tr>\n",
       "    <tr>\n",
       "      <th>26</th>\n",
       "      <td>unknown int0414380aft upgrad 200</td>\n",
       "      <td>unknown int0414380aft upgrad 200</td>\n",
       "    </tr>\n",
       "    <tr>\n",
       "      <th>27</th>\n",
       "      <td>search queri int0189787 didnt return result er...</td>\n",
       "      <td>search queri int0189787 didnt return result er...</td>\n",
       "    </tr>\n",
       "    <tr>\n",
       "      <th>28</th>\n",
       "      <td>search queri int0816843 didnt return result er...</td>\n",
       "      <td>search queri int0816843 didnt return result er...</td>\n",
       "    </tr>\n",
       "    <tr>\n",
       "      <th>29</th>\n",
       "      <td>search queri int0822702 didnt return result er...</td>\n",
       "      <td>search queri int0822702 didnt return result er...</td>\n",
       "    </tr>\n",
       "    <tr>\n",
       "      <th>30</th>\n",
       "      <td>217 تاريخ استلام الخطjood 07751388778996277010...</td>\n",
       "      <td>217 تاريخ استلام خطjood 0775138877899627701061...</td>\n",
       "    </tr>\n",
       "    <tr>\n",
       "      <th>31</th>\n",
       "      <td>الزرقاء حي السخنه إسكان الكوثر 321383849989663...</td>\n",
       "      <td>زرقا حي سخنه إسكان كوثر 3213838499896631 36085...</td>\n",
       "    </tr>\n",
       "    <tr>\n",
       "      <th>32</th>\n",
       "      <td>عمان حي الربوه اسكان المرقب شارع بيت الحرام319...</td>\n",
       "      <td>عمان حي ربوه اسكان مرقب شارع بيت حرام319440679...</td>\n",
       "    </tr>\n",
       "    <tr>\n",
       "      <th>33</th>\n",
       "      <td>775195053 رقم التواصل 778014693 رقم الاشتراك 3...</td>\n",
       "      <td>775195053 رقم تواصل 778014693 رقم اشتراك 32459...</td>\n",
       "    </tr>\n",
       "    <tr>\n",
       "      <th>34</th>\n",
       "      <td>تاريخ استلام الخط 12 7 رقم الخط 0775118865 الر...</td>\n",
       "      <td>تاريخ استلام خط 12 7 رقم خط 0775118865 رقم تسل...</td>\n",
       "    </tr>\n",
       "    <tr>\n",
       "      <th>35</th>\n",
       "      <td>مراقبة الاشتراك خلال الساعات القادمة في حال تك...</td>\n",
       "      <td>مراقبة اشتراك خلال ساعات قادمة حال تكررت مشكلة...</td>\n",
       "    </tr>\n",
       "    <tr>\n",
       "      <th>36</th>\n",
       "      <td>اشارة الانترنت تختفي فجأة ثم تعود 4g+ ولا استط...</td>\n",
       "      <td>اشارة انترنت تختفي فجأة تعود 4g+ استطيع تصفح ا...</td>\n",
       "    </tr>\n",
       "    <tr>\n",
       "      <th>37</th>\n",
       "      <td>اضاءة ال5g لا تعمل</td>\n",
       "      <td>اضاة 5g تعمل</td>\n",
       "    </tr>\n",
       "    <tr>\n",
       "      <th>38</th>\n",
       "      <td>القراءات ممتازة لكن المشترك مصر على تسجيل عطل ...</td>\n",
       "      <td>قراات ممتازة مشترك مصر تسجيل عطل ويقول فصل كام...</td>\n",
       "    </tr>\n",
       "    <tr>\n",
       "      <th>41</th>\n",
       "      <td>القراءات ممتازة لكن المشترك مصر على تسجيل عطل ...</td>\n",
       "      <td>قراات ممتازة مشترك مصر تسجيل عطل ويقول فصل كام...</td>\n",
       "    </tr>\n",
       "    <tr>\n",
       "      <th>42</th>\n",
       "      <td>القراءات ممتازة لكن المشترك مصر على تسجيل عطل ...</td>\n",
       "      <td>قراات ممتازة مشترك مصر تسجيل عطل ويقول فصل كام...</td>\n",
       "    </tr>\n",
       "    <tr>\n",
       "      <th>43</th>\n",
       "      <td>القراءات ممتازة لكن المشترك مصر على تسجيل عطل ...</td>\n",
       "      <td>قراات ممتازة مشترك مصر تسجيل عطل ويقول فصل كام...</td>\n",
       "    </tr>\n",
       "    <tr>\n",
       "      <th>44</th>\n",
       "      <td>القراءات ممتازة لكن المشترك مصر على تسجيل عطل ...</td>\n",
       "      <td>قراات ممتازة مشترك مصر تسجيل عطل ويقول فصل كام...</td>\n",
       "    </tr>\n",
       "    <tr>\n",
       "      <th>48</th>\n",
       "      <td>القراءات ممتازة لكن المشترك مصر على تسجيل عطل ...</td>\n",
       "      <td>قراات ممتازة مشترك مصر تسجيل عطل ويقول فصل كام...</td>\n",
       "    </tr>\n",
       "    <tr>\n",
       "      <th>49</th>\n",
       "      <td>القراءات ممتازة لكن المشترك مصر على تسجيل عطل ...</td>\n",
       "      <td>قراات ممتازة مشترك مصر تسجيل عطل ويقول فصل كام...</td>\n",
       "    </tr>\n",
       "    <tr>\n",
       "      <th>50</th>\n",
       "      <td>القراءات ممتازة لكن المشتركيقول ان المودم يطفئ...</td>\n",
       "      <td>قراات ممتازة مشتركيقول ان مودم يطفئ بشكل مستمر...</td>\n",
       "    </tr>\n",
       "    <tr>\n",
       "      <th>51</th>\n",
       "      <td>القراءات ممتازة لكن المشتركيقول انه يواجه مشكل...</td>\n",
       "      <td>قراات ممتازة مشتركيقول انه يواجه مشكلة سرعة fu...</td>\n",
       "    </tr>\n",
       "    <tr>\n",
       "      <th>52</th>\n",
       "      <td>الكرك المزار الجنوبي العينة</td>\n",
       "      <td>كرك مزار جنوبي عينة</td>\n",
       "    </tr>\n",
       "    <tr>\n",
       "      <th>53</th>\n",
       "      <td>المشترك اخد العرض بقيمة اشتراك 2320ولكن الخصم ...</td>\n",
       "      <td>مشترك اخد عرض بقيمة اشتراك 2320ولكن خصم مرحل ن...</td>\n",
       "    </tr>\n",
       "    <tr>\n",
       "      <th>54</th>\n",
       "      <td>المشتكي بالماي فاي بتاريخ3072022 وثاني يوم قام...</td>\n",
       "      <td>مشتكي بالماي فاي بتاريخ3072022 وثاني يوم مراجج...</td>\n",
       "    </tr>\n",
       "    <tr>\n",
       "      <th>55</th>\n",
       "      <td>تغير التردد وباس واسم الشبكة</td>\n",
       "      <td>تغير تردد وباس واسم شبكة</td>\n",
       "    </tr>\n",
       "    <tr>\n",
       "      <th>56</th>\n",
       "      <td>تم الاتفاق معه ع اشتراك 2088 والاشتراك الفعلي ...</td>\n",
       "      <td>تم اتفاق معه اشتراك 2088 والاشتراك فعلي 232عن ...</td>\n",
       "    </tr>\n",
       "  </tbody>\n",
       "</table>\n",
       "</div>"
      ],
      "text/plain": [
       "                               cleaned_english_column  \\\n",
       "0                      إعادة برمجة من النظامbi sultan   \n",
       "1   عدم التصفح وسوء الخدمه والرجاء اتخاذ قرار في ذ...   \n",
       "2   activ date sep 22 2022 لم يتم اضافة الحزم رقم ...   \n",
       "3                                                gaia   \n",
       "4                                           interrupt   \n",
       "7   never connect ont unknowncontact number 077715...   \n",
       "8        never connect ontunknown07994746460790205560   \n",
       "9       never connect ontاعادة الاتصال من جانب المودم   \n",
       "10  never connect ontالمشترك رافع السرعه وتم الدخو...   \n",
       "11  never connect ontالمشترك لا يستطيع الدخول للمو...   \n",
       "12  never connect ontمشكلة برمجية على الموديممسجلة...   \n",
       "13                                       reduc robust   \n",
       "15  reduc robust minimum 2921 dbmmaximum 2824 dbma...   \n",
       "16                                             switch   \n",
       "26                   unknown int0414380aft upgrad 200   \n",
       "27  search queri int0189787 didnt return result er...   \n",
       "28  search queri int0816843 didnt return result er...   \n",
       "29  search queri int0822702 didnt return result er...   \n",
       "30  217 تاريخ استلام الخطjood 07751388778996277010...   \n",
       "31  الزرقاء حي السخنه إسكان الكوثر 321383849989663...   \n",
       "32  عمان حي الربوه اسكان المرقب شارع بيت الحرام319...   \n",
       "33  775195053 رقم التواصل 778014693 رقم الاشتراك 3...   \n",
       "34  تاريخ استلام الخط 12 7 رقم الخط 0775118865 الر...   \n",
       "35  مراقبة الاشتراك خلال الساعات القادمة في حال تك...   \n",
       "36  اشارة الانترنت تختفي فجأة ثم تعود 4g+ ولا استط...   \n",
       "37                                 اضاءة ال5g لا تعمل   \n",
       "38  القراءات ممتازة لكن المشترك مصر على تسجيل عطل ...   \n",
       "41  القراءات ممتازة لكن المشترك مصر على تسجيل عطل ...   \n",
       "42  القراءات ممتازة لكن المشترك مصر على تسجيل عطل ...   \n",
       "43  القراءات ممتازة لكن المشترك مصر على تسجيل عطل ...   \n",
       "44  القراءات ممتازة لكن المشترك مصر على تسجيل عطل ...   \n",
       "48  القراءات ممتازة لكن المشترك مصر على تسجيل عطل ...   \n",
       "49  القراءات ممتازة لكن المشترك مصر على تسجيل عطل ...   \n",
       "50  القراءات ممتازة لكن المشتركيقول ان المودم يطفئ...   \n",
       "51  القراءات ممتازة لكن المشتركيقول انه يواجه مشكل...   \n",
       "52                        الكرك المزار الجنوبي العينة   \n",
       "53  المشترك اخد العرض بقيمة اشتراك 2320ولكن الخصم ...   \n",
       "54  المشتكي بالماي فاي بتاريخ3072022 وثاني يوم قام...   \n",
       "55                       تغير التردد وباس واسم الشبكة   \n",
       "56  تم الاتفاق معه ع اشتراك 2088 والاشتراك الفعلي ...   \n",
       "\n",
       "                                       cleaned_column  \n",
       "0                           إعادة برمجة نظامbi sultan  \n",
       "1   عدم تصفح وسو خدمه والرجا اتخاذ قرار سكان رويشد...  \n",
       "2   activ date sep 22 2022 يتم اضافة حزم رقم تواصل...  \n",
       "3                                                gaia  \n",
       "4                                           interrupt  \n",
       "7   never connect ont unknowncontact number 077715...  \n",
       "8        never connect ontunknown07994746460790205560  \n",
       "9              never connect ontاعادة اتصال جانب مودم  \n",
       "10  never connect ontالمشترك رافع سرعه وتم دخول ى ...  \n",
       "11  never connect ontالمشترك يستطيع دخول للموقع بش...  \n",
       "12      never connect ontمشكلة برمجية موديممسجلة tcrm  \n",
       "13                                       reduc robust  \n",
       "15  reduc robust minimum 2921 dbmmaximum 2824 dbma...  \n",
       "16                                             switch  \n",
       "26                   unknown int0414380aft upgrad 200  \n",
       "27  search queri int0189787 didnt return result er...  \n",
       "28  search queri int0816843 didnt return result er...  \n",
       "29  search queri int0822702 didnt return result er...  \n",
       "30  217 تاريخ استلام خطjood 0775138877899627701061...  \n",
       "31  زرقا حي سخنه إسكان كوثر 3213838499896631 36085...  \n",
       "32  عمان حي ربوه اسكان مرقب شارع بيت حرام319440679...  \n",
       "33  775195053 رقم تواصل 778014693 رقم اشتراك 32459...  \n",
       "34  تاريخ استلام خط 12 7 رقم خط 0775118865 رقم تسل...  \n",
       "35  مراقبة اشتراك خلال ساعات قادمة حال تكررت مشكلة...  \n",
       "36  اشارة انترنت تختفي فجأة تعود 4g+ استطيع تصفح ا...  \n",
       "37                                       اضاة 5g تعمل  \n",
       "38  قراات ممتازة مشترك مصر تسجيل عطل ويقول فصل كام...  \n",
       "41  قراات ممتازة مشترك مصر تسجيل عطل ويقول فصل كام...  \n",
       "42  قراات ممتازة مشترك مصر تسجيل عطل ويقول فصل كام...  \n",
       "43  قراات ممتازة مشترك مصر تسجيل عطل ويقول فصل كام...  \n",
       "44  قراات ممتازة مشترك مصر تسجيل عطل ويقول فصل كام...  \n",
       "48  قراات ممتازة مشترك مصر تسجيل عطل ويقول فصل كام...  \n",
       "49  قراات ممتازة مشترك مصر تسجيل عطل ويقول فصل كام...  \n",
       "50  قراات ممتازة مشتركيقول ان مودم يطفئ بشكل مستمر...  \n",
       "51  قراات ممتازة مشتركيقول انه يواجه مشكلة سرعة fu...  \n",
       "52                                كرك مزار جنوبي عينة  \n",
       "53  مشترك اخد عرض بقيمة اشتراك 2320ولكن خصم مرحل ن...  \n",
       "54  مشتكي بالماي فاي بتاريخ3072022 وثاني يوم مراجج...  \n",
       "55                           تغير تردد وباس واسم شبكة  \n",
       "56  تم اتفاق معه اشتراك 2088 والاشتراك فعلي 232عن ...  "
      ]
     },
     "execution_count": 19,
     "metadata": {},
     "output_type": "execute_result"
    }
   ],
   "source": [
    "compl[['cleaned_english_column','cleaned_column']].head(40)"
   ]
  },
  {
   "cell_type": "code",
   "execution_count": 20,
   "metadata": {
    "colab": {
     "base_uri": "https://localhost:8080/"
    },
    "id": "9jU-3PaHS9kS",
    "outputId": "fb64b497-9900-480f-e28a-8cfd2dc9503a"
   },
   "outputs": [
    {
     "data": {
      "text/plain": [
       "0                                 إعادة برمجة نظامbi sultan\n",
       "1         عدم تصفح وسو خدمه والرجا اتخاذ قرار سكان رويشد...\n",
       "2         activ date sep 22 2022 يتم اضافة حزم رقم تواصل...\n",
       "3                                                      gaia\n",
       "4                                                 interrupt\n",
       "                                ...                        \n",
       "276287                                               ئئسسسئ\n",
       "276288                                                  ئئئ\n",
       "276289                                                  ئئئ\n",
       "276290                                                 ئئئئ\n",
       "276291                                                ئئئئئ\n",
       "Name: cleaned_column, Length: 141503, dtype: object"
      ]
     },
     "execution_count": 20,
     "metadata": {},
     "output_type": "execute_result"
    }
   ],
   "source": [
    "compl['cleaned_column']"
   ]
  },
  {
   "cell_type": "markdown",
   "metadata": {
    "id": "FmewQlw4L0vz"
   },
   "source": [
    "### **ٌRemoving duplicates and missing values:**"
   ]
  },
  {
   "cell_type": "code",
   "execution_count": 21,
   "metadata": {
    "id": "aR1EJnhuJr0R"
   },
   "outputs": [],
   "source": [
    "compl.drop_duplicates(subset=['cleaned_column'], inplace=True)"
   ]
  },
  {
   "cell_type": "code",
   "execution_count": 22,
   "metadata": {},
   "outputs": [],
   "source": [
    "compl = compl[compl['cleaned_column'].apply(lambda x: len(x.split()) > 1)]"
   ]
  },
  {
   "cell_type": "code",
   "execution_count": 23,
   "metadata": {
    "colab": {
     "base_uri": "https://localhost:8080/"
    },
    "id": "fYuyEJzFImQS",
    "outputId": "f30bb2ca-069d-460d-d84a-9854594c49af"
   },
   "outputs": [
    {
     "name": "stdout",
     "output_type": "stream",
     "text": [
      "Number of empty rows in 'cleaned_column': 0\n"
     ]
    }
   ],
   "source": [
    "empty_rows = compl['cleaned_column'].apply(lambda x: x.strip() == '').sum()\n",
    "\n",
    "# Print the number of empty rows\n",
    "print(\"Number of empty rows in 'cleaned_column':\", empty_rows)"
   ]
  },
  {
   "cell_type": "code",
   "execution_count": 24,
   "metadata": {
    "id": "VV8yBpsaNm9p"
   },
   "outputs": [],
   "source": [
    "compl.drop_duplicates(subset='cleaned_column', keep='first', inplace=True) # to remove repeated arabic columns"
   ]
  },
  {
   "cell_type": "code",
   "execution_count": 25,
   "metadata": {
    "colab": {
     "base_uri": "https://localhost:8080/"
    },
    "id": "45k9EpnQFNEc",
    "outputId": "236eb11f-b1db-464a-8dea-8962cf7e9083"
   },
   "outputs": [
    {
     "data": {
      "text/plain": [
       "0                             إعادة برمجة نظامbi sultan\n",
       "1     عدم تصفح وسو خدمه والرجا اتخاذ قرار سكان رويشد...\n",
       "2     activ date sep 22 2022 يتم اضافة حزم رقم تواصل...\n",
       "7     never connect ont unknowncontact number 077715...\n",
       "8          never connect ontunknown07994746460790205560\n",
       "9                never connect ontاعادة اتصال جانب مودم\n",
       "10    never connect ontالمشترك رافع سرعه وتم دخول ى ...\n",
       "11    never connect ontالمشترك يستطيع دخول للموقع بش...\n",
       "12        never connect ontمشكلة برمجية موديممسجلة tcrm\n",
       "13                                         reduc robust\n",
       "15    reduc robust minimum 2921 dbmmaximum 2824 dbma...\n",
       "26                     unknown int0414380aft upgrad 200\n",
       "27    search queri int0189787 didnt return result er...\n",
       "28    search queri int0816843 didnt return result er...\n",
       "29    search queri int0822702 didnt return result er...\n",
       "30    217 تاريخ استلام خطjood 0775138877899627701061...\n",
       "31    زرقا حي سخنه إسكان كوثر 3213838499896631 36085...\n",
       "32    عمان حي ربوه اسكان مرقب شارع بيت حرام319440679...\n",
       "33    775195053 رقم تواصل 778014693 رقم اشتراك 32459...\n",
       "34    تاريخ استلام خط 12 7 رقم خط 0775118865 رقم تسل...\n",
       "35    مراقبة اشتراك خلال ساعات قادمة حال تكررت مشكلة...\n",
       "36    اشارة انترنت تختفي فجأة تعود 4g+ استطيع تصفح ا...\n",
       "37                                         اضاة 5g تعمل\n",
       "38    قراات ممتازة مشترك مصر تسجيل عطل ويقول فصل كام...\n",
       "41    قراات ممتازة مشترك مصر تسجيل عطل ويقول فصل كام...\n",
       "43    قراات ممتازة مشترك مصر تسجيل عطل ويقول فصل كام...\n",
       "48    قراات ممتازة مشترك مصر تسجيل عطل ويقول فصل كام...\n",
       "49    قراات ممتازة مشترك مصر تسجيل عطل ويقول فصل كام...\n",
       "50    قراات ممتازة مشتركيقول ان مودم يطفئ بشكل مستمر...\n",
       "51    قراات ممتازة مشتركيقول انه يواجه مشكلة سرعة fu...\n",
       "52                                  كرك مزار جنوبي عينة\n",
       "53    مشترك اخد عرض بقيمة اشتراك 2320ولكن خصم مرحل ن...\n",
       "54    مشتكي بالماي فاي بتاريخ3072022 وثاني يوم مراجج...\n",
       "55                             تغير تردد وباس واسم شبكة\n",
       "56    تم اتفاق معه اشتراك 2088 والاشتراك فعلي 232عن ...\n",
       "57    تم بيع خط مندوب مبيعات 0770323224 رقم مندوبللس...\n",
       "58    كبيرة سن تسطيع اتصال شبكة تعاني فصل شبكة ماعند...\n",
       "59                                           يوجد مشاكل\n",
       "60    ولم يتم حل مشكله مشترك يستطيع دخول ى اعدادات م...\n",
       "62    0710 تم تقديم طلب بتاريخ ولغاية ان يتم تركيب خ...\n",
       "Name: cleaned_column, dtype: object"
      ]
     },
     "execution_count": 25,
     "metadata": {},
     "output_type": "execute_result"
    }
   ],
   "source": [
    "compl['cleaned_column'].head(40)"
   ]
  },
  {
   "cell_type": "code",
   "execution_count": 26,
   "metadata": {},
   "outputs": [
    {
     "data": {
      "text/plain": [
       "0                                 إعادة برمجة نظامbi sultan\n",
       "1         عدم تصفح وسو خدمه والرجا اتخاذ قرار سكان رويشد...\n",
       "2         activ date sep 22 2022 يتم اضافة حزم رقم تواصل...\n",
       "7         never connect ont unknowncontact number 077715...\n",
       "8              never connect ontunknown07994746460790205560\n",
       "                                ...                        \n",
       "276112    يوم سبت تم اخدعا معرض دار ابو سعيد 89962770105...\n",
       "276113    يوووجد للزبون خصم بقيمة 50بالمسجات تم دفع مبلغ...\n",
       "276265    ييريد تقديم شكووى مندوب بسبب توقيع عقد زبون تم...\n",
       "276283    ئة بطاقة 12 إقتطاع 12545 1754التاريخ وقت 138 2...\n",
       "276284    ئعربي اسلامي بالشحن بدل دفع فاتورة 29 بالحن بد...\n",
       "Name: cleaned_column, Length: 126612, dtype: object"
      ]
     },
     "execution_count": 26,
     "metadata": {},
     "output_type": "execute_result"
    }
   ],
   "source": [
    "compl['cleaned_column']"
   ]
  },
  {
   "cell_type": "code",
   "execution_count": 27,
   "metadata": {},
   "outputs": [],
   "source": [
    "compl = compl.reset_index(drop=True)"
   ]
  },
  {
   "cell_type": "markdown",
   "metadata": {
    "id": "Msc5XTmbK32Z"
   },
   "source": [
    "# **choosing the most related searches**"
   ]
  },
  {
   "cell_type": "markdown",
   "metadata": {
    "id": "t7D4w1fXG3Zu"
   },
   "source": [
    "# **Graphs:**"
   ]
  },
  {
   "cell_type": "code",
   "execution_count": 28,
   "metadata": {
    "colab": {
     "base_uri": "https://localhost:8080/",
     "height": 1000
    },
    "id": "3451v7gnjP4a",
    "outputId": "73c71eed-fe02-4fe8-872f-800e4f72f8f5"
   },
   "outputs": [],
   "source": [
    "import tkinter as tk\n",
    "from tkinter import ttk\n",
    "import networkx as nx\n",
    "import matplotlib.pyplot as plt\n",
    "from matplotlib.backends.backend_tkagg import FigureCanvasTkAgg\n",
    "from sklearn.feature_extraction.text import TfidfVectorizer\n",
    "from sklearn.metrics.pairwise import linear_kernel\n",
    "import arabic_reshaper\n",
    "from bidi.algorithm import get_display\n",
    "#from sklearn.metrics.pairwise import cosine_similarity"
   ]
  },
  {
   "cell_type": "code",
   "execution_count": 29,
   "metadata": {
    "id": "O6r_HEMgi2wN"
   },
   "outputs": [],
   "source": [
    "canvas = None\n",
    "# Sample dataset (replace with your actual dataset)\n",
    "compl_data = compl['cleaned_column']\n",
    "\n",
    "#......................................................................................................\n",
    "# TF-IDF vectorization\n",
    "tfidf_vectorizer = TfidfVectorizer()\n",
    "tfidf_matrix = tfidf_vectorizer.fit_transform(compl_data)\n",
    "\n",
    "# Function for TF-IDF keyword search\n",
    "def tfidf_keyword_search(query):\n",
    "    query_vector = tfidf_vectorizer.transform([query])\n",
    "    cosine_similarities = linear_kernel(query_vector, tfidf_matrix).flatten()\n",
    "    related_indices = cosine_similarities.argsort()[:-6:-1]  # Get the top 5 related indices\n",
    "    if not any(cosine_similarities):\n",
    "        return False\n",
    "    results = [f\"Complaint {i + 1}: {compl_data[index]}\" for i, index in enumerate(related_indices)]\n",
    "    return results\n",
    "\n",
    "def remove_harakat_shadda(word):\n",
    "    # Remove harakat (diacritics)\n",
    "    cleaned_word = re.sub(r'[\\u0617-\\u061A\\u064B-\\u0652]', '', word)\n",
    "    # Remove shadda (gemination mark)\n",
    "    cleaned_word = re.sub(r'\\u0651', '', cleaned_word)\n",
    "    return cleaned_word\n",
    "\n",
    "def remove_hamza(word):\n",
    "    # Remove standalone Hamza\n",
    "    cleaned_word = re.sub(r'ء', '', word)\n",
    "    return cleaned_word\n",
    "\n",
    "def remove_definite_article(word):\n",
    "    # Remove the definite article \"ال\"\n",
    "    cleaned_word = re.sub(r'^ال', '', word)\n",
    "    return cleaned_word\n",
    "    \n",
    "def clean_text(text):\n",
    "    # Tokenizing the Arabic text\n",
    "    words = word_tokenize(text)\n",
    "\n",
    "    # Removing the stop words, applying Hamza removal, diacritics, and shadda removal\n",
    "    stop_words_arabic = set(stopwords.words('arabic'))\n",
    "    words = [remove_harakat_shadda(remove_hamza(word)) for word in words if word not in stop_words_arabic]\n",
    "\n",
    "    # Joining the words back into a single string\n",
    "    cleaned_text = ' '.join(words)\n",
    "\n",
    "    return cleaned_text\n",
    "\n",
    "def display_search_results():\n",
    "    query = entry_query.get()\n",
    "    result_text.delete(1.0, tk.END)  # Clear previous results\n",
    "\n",
    "    if query:\n",
    "        try:\n",
    "            # Apply preprocessing to the query\n",
    "            preprocessed_query = clean_text(query)\n",
    "            print(preprocessed_query)\n",
    "            # Perform keyword search on the preprocessed query\n",
    "            query_results = tfidf_keyword_search(preprocessed_query)\n",
    "            \n",
    "            if query_results:\n",
    "                for result in query_results:\n",
    "                    result_text.insert(tk.END, result + '\\n')\n",
    "            else:\n",
    "                result_text.insert(tk.END, \"No related complaints for the entered query.\")\n",
    "        except Exception as e:\n",
    "            #  exception\n",
    "            print(f\"Error in display_search_results: {e}\")\n",
    "            result_text.insert(tk.END, \"An error occurred while processing the query.\")\n",
    "    else:\n",
    "        result_text.insert(tk.END, \"Please enter a query.\")\n",
    "#.....................................................................................................................\n",
    "\n",
    "\n",
    "def tfidf(query): # for graphs\n",
    "    query_vector = tfidf_vectorizer.transform([query])\n",
    "    cosine_similarities = linear_kernel(query_vector, tfidf_matrix).flatten()\n",
    "    related_indices = cosine_similarities.argsort()[:-6:-1]  # Get the top 5 related indices\n",
    "\n",
    "    if not any(cosine_similarities):\n",
    "        return False\n",
    "\n",
    "    results = [(index, compl_data[index]) for index in related_indices]\n",
    "    return results\n",
    "# Function to create a directed graph\n",
    "\n",
    "def create_directed_graph(query_results):\n",
    "    G = nx.DiGraph()\n",
    "\n",
    "    for _, complaint in query_results:\n",
    "        words = complaint.split()\n",
    "        for i in range(len(words) - 1):\n",
    "            current_word = words[i]\n",
    "            next_word = words[i + 1]\n",
    "\n",
    "            # Add edges with explicit direction\n",
    "            G.add_edge(current_word, next_word, direction='forward')\n",
    "\n",
    "    return G\n",
    "\n",
    "# Function to display the directed graph on the GUI\n",
    "def display_directed_graph_on_gui(query_results, window):\n",
    "    global canvas\n",
    "    directed_graph = create_directed_graph(query_results)\n",
    "    # Clear the existing canvas if it exists\n",
    "    if canvas:\n",
    "        canvas.get_tk_widget().destroy()\n",
    "\n",
    "    # Create a Tkinter canvas for matplotlib\n",
    "    canvas = FigureCanvasTkAgg(plt.figure(figsize=(10, 8)), master=window)\n",
    "    canvas.get_tk_widget().pack()\n",
    "\n",
    "    pos = nx.shell_layout(directed_graph)# Or i can use spring_layout(directed_graph, k=0.15, iterations=20)\n",
    "\n",
    "    # arabic_reshaper to display Arabic text properly\n",
    "    labels = {node: get_display(arabic_reshaper.reshape(node)) for node in directed_graph.nodes}\n",
    "\n",
    "\n",
    "\n",
    "    # Draw nodes\n",
    "    nx.draw_networkx_nodes(directed_graph, pos, node_color='skyblue', node_size=1000)\n",
    "\n",
    "    # Draw edges\n",
    "    nx.draw_networkx_edges(directed_graph, pos)\n",
    "\n",
    "\n",
    "    # Draw labels with some spacing\n",
    "    nx.draw(directed_graph, pos, labels=labels, font_size=8, verticalalignment='center', node_size=1000,bbox=dict(facecolor='white', alpha=0.7))\n",
    "\n",
    "    plt.title('Directed Graph of Words in Complaints')\n",
    "\n",
    "    # Display the canvas\n",
    "    canvas.draw()\n",
    "\n",
    "# Function to handle the \"Graph 1\" button click event\n",
    "def on_graph1_button_click():\n",
    "    query = entry_query.get()\n",
    "    preprocessed_query = clean_text(query) # preprocess\n",
    "    if query:\n",
    "        query_results = tfidf(preprocessed_query)\n",
    "        if query_results:\n",
    "            display_directed_graph_on_gui(query_results, window)\n",
    "        else:\n",
    "            # Display a message if there are no related complaints\n",
    "            result_text.delete(1.0, tk.END)\n",
    "            result_text.insert(tk.END, \"No related complaints for the entered query.\")\n",
    "    else:\n",
    "        # Display a message if no query is entered\n",
    "        result_text.delete(1.0, tk.END)\n",
    "        result_text.insert(tk.END, \"Please enter a query.\")\n",
    " \n",
    "#......................................................................................................................\n",
    "#.....................................................................................................................\n",
    "def create_co_occurrence_graph(results):\n",
    "    G = nx.Graph()\n",
    "\n",
    "    # Initialize a dictionary to store co-occurrence counts\n",
    "    co_occurrences = {}\n",
    "\n",
    "    # Iterate through each complaint\n",
    "    for _, complaint in results:\n",
    "        words = complaint.split()\n",
    "\n",
    "        # Update co-occurrence counts for each unique pair of words in the sentence\n",
    "        unique_pairs = set((min(word1, word2), max(word1, word2)) for word1 in words for word2 in words if word1 != word2)\n",
    "        for pair in unique_pairs:\n",
    "            co_occurrences[pair] = co_occurrences.get(pair, 0) + 1\n",
    "\n",
    "    # Add edges between co-occurring words with weights\n",
    "    for pair, count in co_occurrences.items():\n",
    "        G.add_edge(pair[0], pair[1], weight=count)\n",
    "\n",
    "    return G\n",
    "\n",
    "# Function to display co-occurrence graph on GUI\n",
    "def display_co_occurrence_graph_on_gui(query_results):\n",
    "    global canvas\n",
    "    co_occurrence_graph = create_co_occurrence_graph(query_results)\n",
    "    # Clear the existing canvas if it exists\n",
    "    if canvas:\n",
    "        canvas.get_tk_widget().destroy()\n",
    "    # Create a Tkinter canvas for matplotlib\n",
    "    canvas = FigureCanvasTkAgg(plt.figure(figsize=(10, 8)), master=window)\n",
    "    canvas.get_tk_widget().pack()\n",
    "\n",
    "    pos = nx.shell_layout(co_occurrence_graph)  # Use the desired layout (e.g., shell_layout)\n",
    "\n",
    "    # Use arabic_reshaper and bidi to display Arabic text properly\n",
    "    labels = {node: get_display(arabic_reshaper.reshape(node)) for node in co_occurrence_graph.nodes}\n",
    "\n",
    "    # Draw nodes\n",
    "    nx.draw_networkx_nodes(co_occurrence_graph, pos, node_color='skyblue', node_size=1000)\n",
    "\n",
    "    # Draw edges with weights\n",
    "    edge_labels = {(word1, word2): weight['weight'] for word1, word2, weight in co_occurrence_graph.edges(data=True)}\n",
    "    nx.draw_networkx_edges(co_occurrence_graph, pos)\n",
    "    nx.draw_networkx_edge_labels(co_occurrence_graph, pos, edge_labels=edge_labels, font_color='red')\n",
    "\n",
    "    # Draw labels with some spacing\n",
    "    nx.draw_networkx_labels(co_occurrence_graph, pos, labels=labels, font_size=8, verticalalignment='center',\n",
    "                            bbox=dict(facecolor='white', alpha=0.7))\n",
    "\n",
    "    plt.title('Co-occurrence Graph of Words in Complaints')\n",
    "\n",
    "    # Display the canvas\n",
    "    canvas.draw()\n",
    "\n",
    "# Function to handle the \"Co-occurrence\" button click event\n",
    "def on_graph2_button_click():\n",
    "    query = entry_query.get()\n",
    "    preprocessed_query = clean_text(query) # preprocess\n",
    "    if query:\n",
    "        query_results = tfidf(preprocessed_query)\n",
    "        if query_results:\n",
    "            display_co_occurrence_graph_on_gui(query_results)\n",
    "        else:\n",
    "            # Display a message if there are no related complaints\n",
    "            result_text.delete(1.0, tk.END)\n",
    "            result_text.insert(tk.END, \"No related complaints for the entered query.\")\n",
    "    else:\n",
    "        # Display a message if no query is entered\n",
    "        result_text.delete(1.0, tk.END)\n",
    "        result_text.insert(tk.END, \"Please enter a query.\")\n",
    "#..............................................................................................................\n",
    "def display_centrality_measures_on_gui(graph):\n",
    "    degree_centrality = nx.degree_centrality(graph)\n",
    "    closeness_centrality = nx.closeness_centrality(graph)\n",
    "    betweenness_centrality = nx.betweenness_centrality(graph)\n",
    "\n",
    "    # Clear previous results\n",
    "    result_text.delete(1.0, tk.END)\n",
    "\n",
    "    result_text.insert(tk.END, \"Centrality Measures:\\n\")\n",
    "    for word in graph.nodes:\n",
    "        result_text.insert(tk.END, f\"\\nWord: {word}\\n\")\n",
    "        result_text.insert(tk.END, f\"Degree Centrality: {degree_centrality[word]}\\n\")\n",
    "        result_text.insert(tk.END, f\"Closeness Centrality: {closeness_centrality[word]}\\n\")\n",
    "        result_text.insert(tk.END, f\"Betweenness Centrality: {betweenness_centrality[word]}\\n\")\n",
    "\n",
    "# Function to handle the \"Centrality Measures\" button click event\n",
    "def on_centrality_button_click():\n",
    "    query = entry_query.get()\n",
    "    preprocessed_query = clean_text(query) # preprocess\n",
    "    if query:\n",
    "        query_results = tfidf(preprocessed_query)\n",
    "        if query_results:\n",
    "            directed_graph = create_directed_graph(query_results)\n",
    "            display_centrality_measures_on_gui(directed_graph)\n",
    "        else:\n",
    "            # Display a message if there are no related complaints\n",
    "            result_text.delete(1.0, tk.END)\n",
    "            result_text.insert(tk.END, \"No related complaints for the entered query.\")\n",
    "    else:\n",
    "        # Display a message if no query is entered\n",
    "        result_text.delete(1.0, tk.END)\n",
    "        result_text.insert(tk.END, \"Please enter a query.\")\n",
    "#.....................................................................................................................\n",
    "def on_co_occurrence_button_click():\n",
    "    query = entry_query.get()\n",
    "    preprocessed_query = clean_text(query) # preprocess\n",
    "    if query:\n",
    "        query_results = tfidf(preprocessed_query)\n",
    "        if query_results:\n",
    "            # Calculate co-occurrences\n",
    "            co_occurrences = {}\n",
    "\n",
    "            for _, complaint in query_results:\n",
    "                words = complaint.split()\n",
    "\n",
    "                # Update co-occurrence counts for each unique pair of words\n",
    "                unique_pairs = set((min(word1, word2), max(word1, word2)) for word1 in words for word2 in words if word1 != word2)\n",
    "                for pair in unique_pairs:\n",
    "                    co_occurrences[pair] = co_occurrences.get(pair, 0) + 1\n",
    "\n",
    "            # Display the co-occurrences\n",
    "            result_text.delete(1.0, tk.END)\n",
    "            result_text.insert(tk.END, \"Co-occurrences for words:\\n\")\n",
    "            for pair, count in co_occurrences.items():\n",
    "                result_text.insert(tk.END, f\"{pair[0]} - {pair[1]}: {count}\\n\")\n",
    "        else:\n",
    "            # Display a message if there are no related complaints\n",
    "            result_text.delete(1.0, tk.END)\n",
    "            result_text.insert(tk.END, \"No related complaints for the entered query.\")\n",
    "    else:\n",
    "        # Display a message if no query is entered\n",
    "        result_text.delete(1.0, tk.END)\n",
    "        result_text.insert(tk.END, \"Please enter a query.\")"
   ]
  },
  {
   "cell_type": "code",
   "execution_count": null,
   "metadata": {},
   "outputs": [
    {
     "name": "stdout",
     "output_type": "stream",
     "text": [
      "مشكلة\n",
      "مشكلة\n",
      "شبكة مشكلة موبايل\n",
      "شبكة مشكلة موبايل\n",
      "مشكلة موبايل بطي جدا\n",
      "مشكلة موبايل بطي جدا\n"
     ]
    }
   ],
   "source": [
    "canvas = None\n",
    "#.....GUI setup...............................................................\n",
    "window = tk.Tk()\n",
    "window.title(\"Search and Visualize\")\n",
    "\n",
    "#Page title................................................................................\n",
    "title_label = tk.Label(window, text=\"Search and Visualize\", font=(\"Helvetica\", 16, \"bold\"))\n",
    "title_label.pack(pady=10)\n",
    "\n",
    "# Label for query search........................................\n",
    "query_label = tk.Label(window, text=\"Enter your query:\")\n",
    "query_label.pack(pady=5)\n",
    "\n",
    "# Entry widget for user input..................................\n",
    "entry_query = tk.Entry(window)\n",
    "entry_query.pack(pady=5)\n",
    "\n",
    "# Text widget to display search results...............................\n",
    "result_text = tk.Text(window, height=10, width=50)\n",
    "result_text.pack(pady=10)\n",
    "# Buttons\n",
    "search_button = tk.Button(window, text=\"Search\", command=display_search_results)\n",
    "search_button.pack(pady=10)\n",
    "\n",
    "graph1_button = tk.Button(window, text=\"Graph 1\", command=on_graph1_button_click)\n",
    "graph1_button.pack(pady=5)\n",
    "\n",
    "graph2_button = tk.Button(window, text=\"Graph 2\", command=on_graph2_button_click)\n",
    "graph2_button.pack(pady=5)\n",
    "\n",
    "centrality_button = tk.Button(window, text=\"Centrality Measures\", command=on_centrality_button_click)\n",
    "centrality_button.pack(pady=5)\n",
    "\n",
    "co_occurrence_button = tk.Button(window, text=\"Co-occurrence\", command=on_co_occurrence_button_click)\n",
    "co_occurrence_button.pack(pady=5)\n",
    "\n",
    "# Run the Tkinter event loop\n",
    "window.mainloop()"
   ]
  },
  {
   "cell_type": "code",
   "execution_count": null,
   "metadata": {},
   "outputs": [],
   "source": []
  },
  {
   "cell_type": "code",
   "execution_count": null,
   "metadata": {},
   "outputs": [],
   "source": []
  }
 ],
 "metadata": {
  "colab": {
   "provenance": []
  },
  "kernelspec": {
   "display_name": "Python 3 (ipykernel)",
   "language": "python",
   "name": "python3"
  },
  "language_info": {
   "codemirror_mode": {
    "name": "ipython",
    "version": 3
   },
   "file_extension": ".py",
   "mimetype": "text/x-python",
   "name": "python",
   "nbconvert_exporter": "python",
   "pygments_lexer": "ipython3",
   "version": "3.12.0"
  }
 },
 "nbformat": 4,
 "nbformat_minor": 4
}
